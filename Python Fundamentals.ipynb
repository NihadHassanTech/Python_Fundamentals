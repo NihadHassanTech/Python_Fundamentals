{
 "cells": [
  {
   "attachments": {},
   "cell_type": "markdown",
   "metadata": {},
   "source": [
    "## <u>PYTHON DATA TYPES</u>\n",
    "\n",
    "* Text Type     :\tstr\n",
    "* Numeric Types :\tint, float, complex\n",
    "* Sequence Types:\tlist, tuple, range\n",
    "* Mapping Type  :\tdict\n",
    "* Set Types     :\tset, frozenset\n",
    "* Boolean Type  :\tbool\n",
    "* Binary Types  :\tbytes, bytearray, memoryview\n",
    "* None Type     :\tNoneType\n",
    "\n",
    "### 1.  RANGE :\n",
    "\n",
    "    eg : for i in range(5):\n",
    "            print(i)\n",
    "\n",
    "    * The range data type in Python represents a sequence of numbers and is commonly used in for loops. \n",
    "    * three parameters: start, stop, and step.\n",
    "    * range objects are iterable, but not indexable or sliceable.\n",
    "    * 'List' function to convert 'range' object to a list.\n",
    "\n",
    "### 2.  DICTIONARY :\n",
    "\n",
    "    eg: phonebook = {\"John\": 123456789, \"Jane\": 987654321, \"Jim\": 111111111}\n",
    "        print(phonebook)\n",
    "\n",
    "        phonebook[\"Tom\"] = 222222222 # adding a new key-value pair\n",
    "        phonebook[\"John\"] = 111111111 # updating a value\n",
    "        del phonebook[\"Jane\"] # deleting a key-value pair\n",
    "        print(phonebook)\n",
    "    \n",
    "    * unordered collection of key-value pairs, where each key maps to a value.\n",
    "    * add, update, and delete key-value pairs in a dictionary.\n",
    "    * keys should be unique and of immutable data type(eg: string, numbers, tuples).\n",
    "\n",
    "### 3.  MEMORYVIEW :\n",
    "\n",
    "    eg: b = bytearray(b'abcd')\n",
    "        mv = memoryview(b)\n",
    "        print(mv[1]) # outputs 98\n",
    "\n",
    "    * allows you to access memory of an object without creating a copy of it.\n",
    "    * read-only and sequence-type object that provides a memory-efficient way to handle bytes-like objects\n",
    "\n",
    "### 4.  NONETYPE :\n",
    "\n",
    "    eg: def return_none():\n",
    "        return None\n",
    "\n",
    "        result = return_none()\n",
    "        print(result)\n",
    "        print(type(result))\n",
    "\n",
    "    * represents the absence of a value.\n",
    "    * used to indicate that a variable or function has no value, or that a value is not specified.\n",
    "    "
   ]
  },
  {
   "attachments": {},
   "cell_type": "markdown",
   "metadata": {},
   "source": [
    "## <u>FOR/WHILE LOOPS</u>\n",
    "\n",
    "eg: for val in sequence:\n",
    "        # statement(s)\n",
    "\n",
    "* used to run a block of code for a certain number of times. \n",
    "* used to iterate over any sequences such as list, tuple, string, etc.\n",
    "\n",
    "### LOOP OVER PYTHON LISTS:\n",
    "\n",
    "\n",
    "\n",
    "\n"
   ]
  }
 ],
 "metadata": {
  "kernelspec": {
   "display_name": "Python 3",
   "language": "python",
   "name": "python3"
  },
  "language_info": {
   "name": "python",
   "version": "3.10.6 (main, Nov 14 2022, 16:10:14) [GCC 11.3.0]"
  },
  "orig_nbformat": 4,
  "vscode": {
   "interpreter": {
    "hash": "916dbcbb3f70747c44a77c7bcd40155683ae19c65e1c03b4aa3499c5328201f1"
   }
  }
 },
 "nbformat": 4,
 "nbformat_minor": 2
}
